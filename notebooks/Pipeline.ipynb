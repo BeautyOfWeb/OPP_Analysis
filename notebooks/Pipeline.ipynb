{
 "cells": [
  {
   "cell_type": "code",
   "execution_count": 1,
   "metadata": {},
   "outputs": [],
   "source": [
    "import sys, warnings\n",
    "pkg_path = '/home/jupyter/code'\n",
    "if pkg_path not in sys.path:\n",
    "    sys.path.append(pkg_path)\n",
    "warnings.filterwarnings(\"ignore\")\n",
    "\n",
    "import torch\n",
    "\n",
    "from optical_electrophysiology import entire_pipeline\n",
    "\n",
    "use_gpu = True\n",
    "if use_gpu and torch.cuda.is_available():\n",
    "    device = torch.device('cuda')\n",
    "else:\n",
    "    device = torch.device('cpu')\n",
    "    \n",
    "%load_ext autoreload\n",
    "%autoreload 2"
   ]
  },
  {
   "cell_type": "code",
   "execution_count": 2,
   "metadata": {},
   "outputs": [
    {
     "name": "stdout",
     "output_type": "stream",
     "text": [
      "Process 153316_1992_NR_d4inf_freezethaw_D32_FOV1\n",
      "Time spent: 162.0614573955536\n"
     ]
    }
   ],
   "source": [
    "bucket = 'gs://broad-opp-voltage/2020-07-23_VoltageMovies_SCDN011'\n",
    "bin_files = ['153316_1992_NR_d4inf_freezethaw_D32_FOV1']\n",
    "result_folder = 'results4'\n",
    "entire_pipeline(bucket, result_folder=result_folder, \n",
    "                bin_files=bin_files, \n",
    "                delete_local_data=True, \n",
    "                apply_spectral_clustering=True, spectral_soft_threshold=True, spectral_cor_threshold=None,\n",
    "                denoise=False, denoise_model_config=None, denoise_loss_threshold=0, denoise_num_epochs=10, denoise_num_iters=500, \n",
    "                display=False, verbose=False, half_precision=False, device=device)"
   ]
  },
  {
   "cell_type": "code",
   "execution_count": 3,
   "metadata": {},
   "outputs": [],
   "source": [
    "torch.cuda.empty_cache()"
   ]
  }
 ],
 "metadata": {
  "environment": {
   "name": "pytorch-gpu.1-4.m46",
   "type": "gcloud",
   "uri": "gcr.io/deeplearning-platform-release/pytorch-gpu.1-4:m46"
  },
  "kernelspec": {
   "display_name": "Python 3",
   "language": "python",
   "name": "python3"
  },
  "language_info": {
   "codemirror_mode": {
    "name": "ipython",
    "version": 3
   },
   "file_extension": ".py",
   "mimetype": "text/x-python",
   "name": "python",
   "nbconvert_exporter": "python",
   "pygments_lexer": "ipython3",
   "version": "3.7.4"
  }
 },
 "nbformat": 4,
 "nbformat_minor": 4
}
